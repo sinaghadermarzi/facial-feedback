{
 "cells": [
  {
   "cell_type": "markdown",
   "id": "e41b4b4d-ea4a-49f4-a0d5-367078671b4a",
   "metadata": {},
   "source": [
    "# Getting started with py-feat\n",
    "this noteboook contains the steps to test py-feat library for a basic prediction. To see a working example, we run these notebook cells in order."
   ]
  },
  {
   "cell_type": "code",
   "execution_count": null,
   "id": "73317508-7a37-4f53-a204-8b4db9edc9aa",
   "metadata": {},
   "outputs": [],
   "source": [
    "!git clone https://github.com/cosanlab/feat.git"
   ]
  },
  {
   "cell_type": "code",
   "execution_count": null,
   "id": "4712b137-6fbe-48fe-9fe9-e89e6a8e1588",
   "metadata": {},
   "outputs": [],
   "source": [
    "from feat.tests.test_detector import *"
   ]
  },
  {
   "cell_type": "code",
   "execution_count": null,
   "id": "4e63b1ec-10d3-4078-805f-decd7b559a62",
   "metadata": {},
   "outputs": [],
   "source": [
    "test_empty_init()"
   ]
  },
  {
   "cell_type": "code",
   "execution_count": null,
   "id": "1a56258d-a8af-4d62-9e12-a03283381bd2",
   "metadata": {},
   "outputs": [],
   "source": [
    "from feat import Detector\n",
    "\n",
    "detector = Detector(au_model='svm', emotion_model='svm')"
   ]
  },
  {
   "cell_type": "code",
   "execution_count": null,
   "id": "dc7b69d5-af42-4434-bbdf-57017f78e960",
   "metadata": {},
   "outputs": [],
   "source": [
    "from feat import Detector\n",
    "\n",
    "detector = Detector(\n",
    "    face_model=\"retinaface\",\n",
    "    landmark_model=\"mobilefacenet\",\n",
    "    au_model='svm',\n",
    "    emotion_model=\"resmasknet\",\n",
    "    facepose_model=\"img2pose\",\n",
    ")\n",
    "\n",
    "detector"
   ]
  },
  {
   "cell_type": "code",
   "execution_count": null,
   "id": "1695c73e-1845-465f-8175-29e61ecb2faa",
   "metadata": {},
   "outputs": [],
   "source": [
    "from feat.utils import get_test_data_path\n",
    "from feat.plotting import imshow\n",
    "import os\n",
    "\n",
    "# Helper to point to the test data folder\n",
    "test_data_dir = get_test_data_path()\n",
    "\n",
    "# Get the full path\n",
    "single_face_img_path = os.path.join(test_data_dir, \"single_face.jpg\")\n",
    "\n",
    "# Plot it\n",
    "imshow(single_face_img_path)"
   ]
  },
  {
   "cell_type": "code",
   "execution_count": null,
   "id": "d290abd6-8a21-4cbf-82a6-e945ed3ffc81",
   "metadata": {},
   "outputs": [],
   "source": [
    "single_face_prediction = detector.detect_image(single_face_img_path)\n",
    "\n",
    "# Show results\n",
    "single_face_prediction"
   ]
  },
  {
   "cell_type": "code",
   "execution_count": null,
   "id": "dc98aef6-1f1b-4910-a0bb-0bc4bd33ed24",
   "metadata": {},
   "outputs": [],
   "source": []
  }
 ],
 "metadata": {
  "kernelspec": {
   "display_name": "Python 3 (ipykernel)",
   "language": "python",
   "name": "python3"
  },
  "language_info": {
   "codemirror_mode": {
    "name": "ipython",
    "version": 3
   },
   "file_extension": ".py",
   "mimetype": "text/x-python",
   "name": "python",
   "nbconvert_exporter": "python",
   "pygments_lexer": "ipython3",
   "version": "3.10.4"
  }
 },
 "nbformat": 4,
 "nbformat_minor": 5
}
